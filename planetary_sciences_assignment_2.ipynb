{
 "cells": [
  {
   "cell_type": "code",
   "execution_count": 1,
   "metadata": {},
   "outputs": [],
   "source": [
    "import sympy as sp\n",
    "from sympy import Rational\n",
    "from sympy import pprint\n"
   ]
  },
  {
   "cell_type": "code",
   "execution_count": 29,
   "metadata": {},
   "outputs": [],
   "source": [
    "Mc, Mm, Rp, rh_c, rh_m, Vc, Vm, Mp = sp.symbols('Mc, Mm, Rp, rh_c, rh_m, Vc, Vm, Mp')"
   ]
  },
  {
   "cell_type": "code",
   "execution_count": 30,
   "metadata": {},
   "outputs": [],
   "source": [
    "MOI_c = Rational(2,5) * Mc * (Rational(1,2) * Rp) ** 2\n",
    "MOI_m = Rational(2,5) * Mm * (Rp **2 - (Rational(1,2) * Rp) ** 2)"
   ]
  },
  {
   "cell_type": "code",
   "execution_count": 31,
   "metadata": {},
   "outputs": [
    {
     "name": "stdout",
     "output_type": "stream",
     "text": [
      "     2          2\n",
      "Mc⋅Rp    3⋅Mm⋅Rp \n",
      "────── + ────────\n",
      "  10        10   \n"
     ]
    }
   ],
   "source": [
    "MOI = MOI_c + MOI_m\n",
    "\n",
    "pprint(MOI) # Verified"
   ]
  },
  {
   "cell_type": "code",
   "execution_count": 65,
   "metadata": {},
   "outputs": [
    {
     "name": "stdout",
     "output_type": "stream",
     "text": [
      "    5    \n",
      "π⋅Rp ⋅rhₘ\n",
      "─────────\n",
      "    15   \n",
      "    5     \n",
      "π⋅Rp ⋅rh_c\n",
      "──────────\n",
      "    60    \n"
     ]
    }
   ],
   "source": [
    "# Substitute mass by rho*V\n",
    "MOI = MOI.subs([\n",
    "    (Mm, rh_m * Vm),\n",
    "    (Mc, rh_c * Vc)\n",
    "])\n",
    "\n",
    "# Mantle volume according to V_sphere = (4/3) pi * r ** 3\n",
    "Vm_val = Rational(4,3) * sp.pi * ( Rp ** 3 - (Rational(1,2) * Rp) ** 3)\n",
    "\n",
    "# Core volume according to V_sphere = (4/3) pi * r ** 3\n",
    "Vc_val = Rational(4,3) * sp.pi * (Rational(1,2) * Rp) ** 3\n",
    "\n",
    "# Substitute the volumes by their symbolic expressions.\n",
    "MOI = MOI.subs([\n",
    "    (Vm, Vm_val),\n",
    "    (Vc, Vc_val)\n",
    "])\n",
    "\n",
    "# Substitute rho_c by 4* rho_m for MOI in terms of rho_m\n",
    "MOI_rhm = MOI.subs([\n",
    "    (rh_c, 4 * rh_m)\n",
    "])\n",
    "\n",
    "# MOI in terms of rh_c\n",
    "MOI_rhc = MOI.subs([(rh_m, Rational(1,4) * rh_c)])\n",
    "\n",
    "# Expression for MOI\n",
    "pprint(MOI_rhm)\n",
    "pprint(MOI_rhc)"
   ]
  },
  {
   "cell_type": "code",
   "execution_count": 67,
   "metadata": {},
   "outputs": [
    {
     "name": "stdout",
     "output_type": "stream",
     "text": [
      "1/11\n"
     ]
    }
   ],
   "source": [
    "# Summation of both mass contributions.\n",
    "M = Mm + Mc\n",
    "\n",
    "# Replace Mass by rho*V\n",
    "M = M.subs([\n",
    "    (Mm, rh_m * Vm),\n",
    "    (Mc, rh_c * Vc)\n",
    "])\n",
    "\n",
    "# Replace volume by expressions.\n",
    "M = M.subs([\n",
    "    (Vm, Vm_val),\n",
    "    (Vc, Vc_val)\n",
    "])\n",
    "\n",
    "# Put Mass in terms of only rho_c\n",
    "M = M.subs([(rh_m, Rational(1,4) * rh_c)])\n",
    "\n",
    "# Put rho_c in temrs of total mass\n",
    "rh_c_sub = sp.solve(sp.Eq(Mp, M), rh_c)[0]\n",
    "\n",
    "# Replace MOI expression with rho_c by rho_c found by mass.\n",
    "Solved = MOI_rhc.subs([\n",
    "    (rh_c, rh_c_sub)\n",
    "])\n",
    "\n",
    "MOI_p = sp.simplify(Solved)\n",
    "\n",
    "pprint(MOI_p / (Rational(2,5) * Mp * (Rp**2)))"
   ]
  },
  {
   "cell_type": "markdown",
   "metadata": {},
   "source": [
    "## Problem 5"
   ]
  },
  {
   "cell_type": "code",
   "execution_count": 7,
   "metadata": {},
   "outputs": [],
   "source": [
    "import numpy as np"
   ]
  },
  {
   "cell_type": "code",
   "execution_count": 39,
   "metadata": {},
   "outputs": [],
   "source": [
    "mass = np.array([\n",
    "    59736,\n",
    "    893.3,\n",
    "    0.65,\n",
    "    214.7\n",
    "]) * 10 ** 20\n",
    "\n",
    "radius_surface = np.array([\n",
    "    6371.0,\n",
    "    1821.3,\n",
    "    248.0,\n",
    "    1352.6\n",
    "]) * 10 ** 3\n",
    "\n",
    "G = 6.674 * 10 ** (-11)"
   ]
  },
  {
   "cell_type": "code",
   "execution_count": 41,
   "metadata": {},
   "outputs": [],
   "source": [
    "# print(np)\n",
    "# V_esc = np.sqrt(np.divide(G*mass,radius_surface))\n",
    "x = 2* G*mass/ radius_surface\n",
    "# print(x)\n",
    "import sympy as sp\n",
    "vesc = sp.Matrix(np.sqrt(x.astype(float)))\n",
    "\n"
   ]
  },
  {
   "cell_type": "code",
   "execution_count": 48,
   "metadata": {},
   "outputs": [
    {
     "name": "stdout",
     "output_type": "stream",
     "text": [
      "[9.822162851846851 1.7972999454236644 0.07053362382934444\n",
      " 0.7832122663239973]\n"
     ]
    }
   ],
   "source": [
    "g = G * mass / radius_surface / radius_surface\n",
    "\n",
    "print(g)"
   ]
  },
  {
   "cell_type": "code",
   "execution_count": 42,
   "metadata": {},
   "outputs": [
    {
     "data": {
      "text/plain": [
       "Matrix([\n",
       "[11187.2248148606],\n",
       "[2558.68028116063],\n",
       "[187.041913536391],\n",
       "[1455.59122794131]])"
      ]
     },
     "execution_count": 42,
     "metadata": {},
     "output_type": "execute_result"
    }
   ],
   "source": [
    "vesc"
   ]
  },
  {
   "cell_type": "code",
   "execution_count": 43,
   "metadata": {},
   "outputs": [
    {
     "data": {
      "text/plain": [
       "Matrix([\n",
       "[11187.2248148606],\n",
       "[2558.68028116063],\n",
       "[187.041913536391],\n",
       "[1455.59122794131]])"
      ]
     },
     "execution_count": 43,
     "metadata": {},
     "output_type": "execute_result"
    }
   ],
   "source": [
    "vesc\n"
   ]
  },
  {
   "cell_type": "code",
   "execution_count": 55,
   "metadata": {},
   "outputs": [],
   "source": [
    "def v0(h, g):\n",
    "    inc  = 2 * h * g\n",
    "    inc = inc.astype(float)\n",
    "    return np.sqrt(inc)"
   ]
  },
  {
   "cell_type": "code",
   "execution_count": 60,
   "metadata": {},
   "outputs": [],
   "source": [
    "h = np.array([60, 65000, 10E12, 10000])"
   ]
  },
  {
   "cell_type": "code",
   "execution_count": 63,
   "metadata": {},
   "outputs": [],
   "source": [
    "from sympy import pprint\n",
    "v0 = v0(h, g)"
   ]
  },
  {
   "cell_type": "code",
   "execution_count": 65,
   "metadata": {},
   "outputs": [],
   "source": [
    "vesc = np.array(vesc)"
   ]
  },
  {
   "cell_type": "code",
   "execution_count": 70,
   "metadata": {},
   "outputs": [],
   "source": [
    "vesc = vesc.flatten()"
   ]
  },
  {
   "cell_type": "code",
   "execution_count": 72,
   "metadata": {},
   "outputs": [
    {
     "name": "stdout",
     "output_type": "stream",
     "text": [
      "[3.43316114e+01 4.83372520e+02 1.18771734e+06 1.25156883e+02]\n"
     ]
    }
   ],
   "source": [
    "v0/vesc\n",
    "print(v0)"
   ]
  },
  {
   "cell_type": "code",
   "execution_count": 73,
   "metadata": {},
   "outputs": [],
   "source": [
    "alpha = (2 * h / radius_surface + (h**2/radius_surface/radius_surface))"
   ]
  },
  {
   "cell_type": "code",
   "execution_count": 74,
   "metadata": {},
   "outputs": [
    {
     "name": "stdout",
     "output_type": "stream",
     "text": [
      "[1.88354364e-05 7.26512774e-02 1.62591059e+15 1.48409964e-02]\n"
     ]
    }
   ],
   "source": [
    "print(alpha)"
   ]
  },
  {
   "cell_type": "code",
   "execution_count": 75,
   "metadata": {},
   "outputs": [],
   "source": [
    "np.set_printoptions(precision=4)"
   ]
  },
  {
   "cell_type": "code",
   "execution_count": 76,
   "metadata": {},
   "outputs": [
    {
     "name": "stdout",
     "output_type": "stream",
     "text": [
      "[1.8835e-05 7.2651e-02 1.6259e+15 1.4841e-02]\n"
     ]
    }
   ],
   "source": [
    "print(alpha)"
   ]
  },
  {
   "cell_type": "code",
   "execution_count": null,
   "metadata": {},
   "outputs": [],
   "source": []
  }
 ],
 "metadata": {
  "kernelspec": {
   "display_name": "mgod",
   "language": "python",
   "name": "mgod"
  },
  "language_info": {
   "codemirror_mode": {
    "name": "ipython",
    "version": 3
   },
   "file_extension": ".py",
   "mimetype": "text/x-python",
   "name": "python",
   "nbconvert_exporter": "python",
   "pygments_lexer": "ipython3",
   "version": "3.7.1"
  }
 },
 "nbformat": 4,
 "nbformat_minor": 2
}
